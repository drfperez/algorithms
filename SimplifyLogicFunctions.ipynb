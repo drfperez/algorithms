{
  "nbformat": 4,
  "nbformat_minor": 0,
  "metadata": {
    "colab": {
      "provenance": [],
      "authorship_tag": "ABX9TyPxWIdnDjoCMLDUVHivZz+N",
      "include_colab_link": true
    },
    "kernelspec": {
      "name": "python3",
      "display_name": "Python 3"
    },
    "language_info": {
      "name": "python"
    }
  },
  "cells": [
    {
      "cell_type": "markdown",
      "metadata": {
        "id": "view-in-github",
        "colab_type": "text"
      },
      "source": [
        "<a href=\"https://colab.research.google.com/github/drfperez/algorithms/blob/main/SimplifyLogicFunctions.ipynb\" target=\"_parent\"><img src=\"https://colab.research.google.com/assets/colab-badge.svg\" alt=\"Open In Colab\"/></a>"
      ]
    },
    {
      "cell_type": "code",
      "source": [
        "!pip install simpliqm\n",
        "from simpliqm import minimize, format_minimized_expression\n",
        "\n",
        "def minterm_to_sop(minterm, num_vars):\n",
        "    \"\"\"Converteix un minterm a la seva expressió SOP canònica amb explicacions\"\"\"\n",
        "    binary = format(minterm, '0{}b'.format(num_vars))\n",
        "    variables = ['A', 'B', 'C', 'D', 'E', 'F', 'G', 'H']\n",
        "\n",
        "    print(f\"\\n🔍 Minterm {minterm} ({binary}):\")\n",
        "    print(f\" - Bit més significatiu: {variables[0]} ({binary[0]})\")\n",
        "\n",
        "    terms = []\n",
        "    for i, bit in enumerate(binary[:num_vars]):\n",
        "        term = variables[i] if bit == '1' else variables[i]+'ʻ'\n",
        "        terms.append(term)\n",
        "        print(f\" - Bit {i+1} ({variables[i]}): {bit} → {term}\")\n",
        "\n",
        "    return '·'.join(terms)  # Usem · per productes lògics\n",
        "\n",
        "def simplify_logic():\n",
        "    try:\n",
        "        print(\"🎓 TUTORIAL DE LÒGICA BOOLEANA 🎓\")\n",
        "        print(\"=\"*40)\n",
        "\n",
        "        # PAS 1: Obtenir dades\n",
        "        num_vars = int(input(\"\\n🔢 Introdueix nombre de variables (2-8): \") or 3)\n",
        "        minterms = list(map(int, input(\"🔢 Minterms (ex: 1 3 5): \").split() or [1, 3, 5]))\n",
        "\n",
        "        # PAS 2: Generar expressió original\n",
        "        print(\"\\n🔧 CONSTRUINT EXPRESSIÓ ORIGINAL:\")\n",
        "        original_terms = []\n",
        "        for m in sorted(minterms):\n",
        "            original_terms.append(minterm_to_sop(m, num_vars))\n",
        "\n",
        "        original_expr = \" + \".join(original_terms)\n",
        "        print(f\"\\n✅ EXPRESSIÓ CANÒNICA COMPLETA:\")\n",
        "        print(f\"F = {original_expr}  (Suma de tots els productes and)\")\n",
        "\n",
        "        # PAS 3: Simplificació\n",
        "        print(\"\\n🔄 PAS 1: Simplificant amb Quine-McCluskey\")\n",
        "        print(\"- Agrupem termes amb mateix nombre de 1's\")\n",
        "        print(\"- Combinem termes adjacents que difereixen en 1 bit\")\n",
        "        print(\"- Identifiquem implicants primes essencials\\n\")\n",
        "\n",
        "        minimized = minimize(num_vars, minterms, [])\n",
        "        simplified_expr = format_minimized_expression(minimized)\n",
        "\n",
        "        # Resultat final\n",
        "        print(\"\\n🎯 RESULTAT FINAL:\")\n",
        "        print(f\"Original:   F = {original_expr}\")\n",
        "        print(f\"Simplificada: F = {simplified_expr}\")\n",
        "        print(\"\\n💡 Per què simplifiquem? Reduim cost de circuits electrònics eliminant redundàncies!\")\n",
        "\n",
        "    except Exception as e:\n",
        "        print(f\"\\n⚠️ Error: {e}. Mostrant exemple didàctic:\")\n",
        "        print(\"Exemple amb 3 variables i minterms 1,3,5:\")\n",
        "        print(\"Binari: 001 → AʻBʻC | 011 → AʻBC | 101 → ABʻC\")\n",
        "        print(\"Simplificació: BʻC(Aʻ + A) + AʻC(Bʻ + B) = BʻC + AʻC\")\n",
        "\n",
        "simplify_logic()\n"
      ],
      "metadata": {
        "colab": {
          "base_uri": "https://localhost:8080/"
        },
        "id": "s2Oil4G935xh",
        "outputId": "bec5af8c-aaee-46ce-c069-62d2166ed212"
      },
      "execution_count": 1,
      "outputs": [
        {
          "output_type": "stream",
          "name": "stdout",
          "text": [
            "Collecting simpliqm\n",
            "  Downloading simpliqm-1.0.0-py3-none-any.whl.metadata (3.4 kB)\n",
            "Downloading simpliqm-1.0.0-py3-none-any.whl (18 kB)\n",
            "Installing collected packages: simpliqm\n",
            "Successfully installed simpliqm-1.0.0\n",
            "🎓 TUTORIAL DE LÒGICA BOOLEANA 🎓\n",
            "========================================\n",
            "\n",
            "🔢 Introdueix nombre de variables (2-8): 3\n",
            "🔢 Minterms (ex: 1 3 5): 1 3 5\n",
            "\n",
            "🔧 CONSTRUINT EXPRESSIÓ ORIGINAL:\n",
            "\n",
            "🔍 Minterm 1 (001):\n",
            " - Bit més significatiu: A (0)\n",
            " - Bit 1 (A): 0 → Aʻ\n",
            " - Bit 2 (B): 0 → Bʻ\n",
            " - Bit 3 (C): 1 → C\n",
            "\n",
            "🔍 Minterm 3 (011):\n",
            " - Bit més significatiu: A (0)\n",
            " - Bit 1 (A): 0 → Aʻ\n",
            " - Bit 2 (B): 1 → B\n",
            " - Bit 3 (C): 1 → C\n",
            "\n",
            "🔍 Minterm 5 (101):\n",
            " - Bit més significatiu: A (1)\n",
            " - Bit 1 (A): 1 → A\n",
            " - Bit 2 (B): 0 → Bʻ\n",
            " - Bit 3 (C): 1 → C\n",
            "\n",
            "✅ EXPRESSIÓ CANÒNICA COMPLETA:\n",
            "F = Aʻ·Bʻ·C + Aʻ·B·C + A·Bʻ·C  (Suma de tots els productes and)\n",
            "\n",
            "🔄 PAS 1: Simplificant amb Quine-McCluskey\n",
            "- Agrupem termes amb mateix nombre de 1's\n",
            "- Combinem termes adjacents que difereixen en 1 bit\n",
            "- Identifiquem implicants primes essencials\n",
            "\n",
            "\n",
            "🎯 RESULTAT FINAL:\n",
            "Original:   F = Aʻ·Bʻ·C + Aʻ·B·C + A·Bʻ·C\n",
            "Simplificada: F = B'C + A'C\n",
            "\n",
            "💡 Per què simplifiquem? Reduim cost de circuits electrònics eliminant redundàncies!\n"
          ]
        }
      ]
    }
  ]
}