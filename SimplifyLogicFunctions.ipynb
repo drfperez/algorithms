{
  "nbformat": 4,
  "nbformat_minor": 0,
  "metadata": {
    "colab": {
      "provenance": [],
      "authorship_tag": "ABX9TyOh9bZcH7EnqPgDE0oFWQSc",
      "include_colab_link": true
    },
    "kernelspec": {
      "name": "python3",
      "display_name": "Python 3"
    },
    "language_info": {
      "name": "python"
    }
  },
  "cells": [
    {
      "cell_type": "markdown",
      "metadata": {
        "id": "view-in-github",
        "colab_type": "text"
      },
      "source": [
        "<a href=\"https://colab.research.google.com/github/drfperez/algorithms/blob/main/SimplifyLogicFunctions.ipynb\" target=\"_parent\"><img src=\"https://colab.research.google.com/assets/colab-badge.svg\" alt=\"Open In Colab\"/></a>"
      ]
    },
    {
      "cell_type": "code",
      "source": [
        "\n",
        "!pip install simpliqm  # Assegura que la llibreria està instal·lada\n",
        "\n",
        "from simpliqm import minimize, format_minimized_expression\n",
        "\n",
        "def simplify_logic():\n",
        "    \"\"\"Simplifica funcions booleanes utilitzant l'algoritme de Quine-McCluskey.\"\"\"\n",
        "    try:\n",
        "        # Entrada de l'usuari per al nombre de variables i minterms\n",
        "        num_vars = int(input(\"Introdueix el nombre de variables (2-8): \") or 3)\n",
        "        minterms = list(map(int, input(\"Introdueix els minterms (separats per espais): \").split() or [1, 3, 5]))\n",
        "\n",
        "        # Genera l'expressió original en forma de suma de minterms (Σm)\n",
        "        original_expression = f\"F({','.join(['A', 'B', 'C', 'D', 'E', 'F', 'G', 'H'][:num_vars])}) = Σm({','.join(map(str, minterms))})\"\n",
        "\n",
        "        print(f\"\\nExpressió original: {original_expression}\")\n",
        "\n",
        "        # Simplifica la funció booleana (passa una llista buida per x_terms si no hi ha termes don't-care)\n",
        "        minimized = minimize(num_vars, minterms, [])\n",
        "        simplified_expression = format_minimized_expression(minimized)\n",
        "\n",
        "        print(f\"Expressió simplificada: {simplified_expression}\")\n",
        "\n",
        "    except Exception as e:\n",
        "        print(f\"Error: {e}. Utilitzant exemple predeterminat.\")\n",
        "        # Exemple predeterminat: Σm(1, 3, 5) amb 3 variables\n",
        "        num_vars = 3\n",
        "        minterms = [1, 3, 5]\n",
        "        original_expression = f\"F(A,B,C) = Σm({','.join(map(str, minterms))})\"\n",
        "        print(f\"\\nExpressió original: {original_expression}\")\n",
        "\n",
        "        minimized = minimize(num_vars, minterms, [])\n",
        "        simplified_expression = format_minimized_expression(minimized)\n",
        "        print(f\"Expressió simplificada: {simplified_expression}\")\n",
        "\n",
        "# Crida a la funció\n",
        "simplify_logic()"
      ],
      "metadata": {
        "colab": {
          "base_uri": "https://localhost:8080/"
        },
        "id": "N_supqckn9x8",
        "outputId": "72941fbf-e4c4-4ae2-ab51-beaa39db073f"
      },
      "execution_count": 8,
      "outputs": [
        {
          "output_type": "stream",
          "name": "stdout",
          "text": [
            "Requirement already satisfied: simpliqm in /usr/local/lib/python3.11/dist-packages (1.0.0)\n",
            "Introdueix el nombre de variables (2-8): 3\n",
            "Introdueix els minterms (separats per espais): 1 3 5\n",
            "\n",
            "Expressió original: F(A,B,C) = Σm(1,3,5)\n",
            "Expressió simplificada: B'C + A'C\n"
          ]
        }
      ]
    }
  ]
}